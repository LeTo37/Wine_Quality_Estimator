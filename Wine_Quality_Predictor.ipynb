{
 "cells": [
  {
   "cell_type": "code",
   "execution_count": 215,
   "metadata": {},
   "outputs": [],
   "source": [
    "import csv\n",
    "import numpy as np\n",
    "import time\n",
    "from sklearn.metrics import fbeta_score\n",
    "from sklearn.metrics import accuracy_score\n",
    "from sklearn.naive_bayes import GaussianNB\n",
    "from sklearn.linear_model import LogisticRegression\n",
    "from sklearn.neighbors import KNeighborsClassifier\n",
    "from sklearn import tree\n",
    "from sklearn.neural_network import MLPClassifier\n",
    "from sklearn.ensemble import RandomForestClassifier"
   ]
  },
  {
   "cell_type": "code",
   "execution_count": 216,
   "metadata": {},
   "outputs": [],
   "source": [
    "x1 = []\n",
    "x2 = []\n",
    "x3 = []\n",
    "x4 = []\n",
    "x5 = []\n",
    "x6 = []\n",
    "x7 = []\n",
    "x8 = []\n",
    "x9 = []\n",
    "x10 = []\n",
    "x11 = []\n",
    "y = []"
   ]
  },
  {
   "cell_type": "code",
   "execution_count": 217,
   "metadata": {},
   "outputs": [],
   "source": [
    "def read_file(csvname):\n",
    "    '''This function reads the winequality datasets and appends the\n",
    "    results into the appropriate feature and output arrays'''\n",
    "    with open(csvname) as f:\n",
    "        reader = csv.DictReader(f, delimiter=';')\n",
    "        for row in reader:\n",
    "            x1.append(float(row['fixed acidity']))\n",
    "            x2.append(float(row['volatile acidity']))\n",
    "            x3.append(float(row['citric acid']))\n",
    "            x4.append(float(row['residual sugar']))\n",
    "            x5.append(float(row['chlorides']))\n",
    "            x6.append(float(row['free sulfur dioxide']))\n",
    "            x7.append(float(row['total sulfur dioxide']))\n",
    "            x8.append(float(row['density']))\n",
    "            x9.append(float(row['pH']))\n",
    "            x10.append(float(row['sulphates']))\n",
    "            x11.append(float(row['alcohol']))\n",
    "            y.append(float(row['quality']))"
   ]
  },
  {
   "cell_type": "code",
   "execution_count": 218,
   "metadata": {},
   "outputs": [],
   "source": [
    "read_file(\"winequality-red.csv\")\n",
    "read_file(\"winequality-white.csv\")"
   ]
  },
  {
   "cell_type": "code",
   "execution_count": 219,
   "metadata": {},
   "outputs": [],
   "source": [
    "Features = np.ones((len(x1),11))\n",
    "y = np.array(y)\n",
    "y = np.reshape(y,(y.size,1))\n",
    "Features[:,0] = x1\n",
    "Features[:,1] = x2\n",
    "Features[:,2] = x3\n",
    "Features[:,3] = x4\n",
    "Features[:,4] = x5\n",
    "Features[:,5] = x6\n",
    "Features[:,6] = x7\n",
    "Features[:,7] = x8\n",
    "Features[:,8] = x9\n",
    "Features[:,9] = x10\n",
    "Features[:,10] = x11"
   ]
  },
  {
   "cell_type": "markdown",
   "metadata": {},
   "source": [
    "Turn This into a classification problem with 3 classes, whereby wine with a quality between 0 and 4 is \"bad\" (label = 0), between 5 and 6 is \"average\" (label = 1) and between 7 and 10 is \"exceptional\" (label = 2)."
   ]
  },
  {
   "cell_type": "code",
   "execution_count": 220,
   "metadata": {},
   "outputs": [],
   "source": [
    "ylabel = np.ones((y.shape))\n",
    "for i in range(0,y.size):\n",
    "    if (y[i] < 5):\n",
    "        ylabel[i] = 0\n",
    "    elif (y[i] < 7):\n",
    "        ylabel[i] = 1\n",
    "    else:\n",
    "        ylabel[i] = 2"
   ]
  },
  {
   "cell_type": "markdown",
   "metadata": {},
   "source": [
    "Doing a K-fold split for training and testing data, k = 3."
   ]
  },
  {
   "cell_type": "code",
   "execution_count": 221,
   "metadata": {},
   "outputs": [],
   "source": [
    "def k_fold_split(x,y,k=3):\n",
    "    '''This function takes the full data set of features and labels/output\n",
    "    and splits the set into k=3 sections, whereby 2/3 is used for training and \n",
    "    the 1/3 for testing. It rotates these folds such each set is used for both \n",
    "    training and testing'''\n",
    "    testx = np.zeros((k,int(round(x.shape[0]/k))+1,x.shape[1])) # +1 because x.shape[0]/3 is not whole\n",
    "    testy = np.zeros((k,int(round(x.shape[0]/k))+1,y.shape[1]))\n",
    "    trainx = np.zeros((k,int(((k-1)*round(x.shape[0]/k)))+1,x.shape[1]))\n",
    "    trainy = np.zeros((k,int(((k-1)*round(x.shape[0]/k)))+1,y.shape[1]))\n",
    "    i = np.random.choice(range(x.shape[0]),x.shape[0],replace = False)\n",
    "    for h in range(0,k):\n",
    "        xtemp = np.copy(x)\n",
    "        ytemp = np.copy(y)\n",
    "        testx_temp = np.zeros((int(round(x.shape[0]/k))+1,x.shape[1]))\n",
    "        testy_temp = np.zeros((int(round(x.shape[0]/k))+1,y.shape[1]))\n",
    "        trainx_temp = np.zeros((int(((k-1)*round(x.shape[0]/k)))+1,x.shape[1]))\n",
    "        trainy_temp = np.zeros((int(((k-1)*round(x.shape[0]/k)))+1,y.shape[1]))\n",
    "        l=int((i.size/k)*(h+1))\n",
    "        count = 0\n",
    "        for j in range(0,i.size):\n",
    "            if ((j)+int(i.size/k)*(h) < l):\n",
    "                testx_temp[j] = (np.take(xtemp,i[(j)+int(i.size/k)*(h)],axis=0))\n",
    "                testy_temp[j] = (np.take(ytemp,i[(j)+int(i.size/k)*(h)]))\n",
    "            else:\n",
    "                trainx_temp[count] = (np.take(xtemp,i[j],axis=0))\n",
    "                trainy_temp[count] = (np.take(ytemp,i[j]))\n",
    "                count+=1\n",
    "        testx[h] = testx_temp\n",
    "        testy[h] = testy_temp\n",
    "        trainx[h] = trainx_temp\n",
    "        trainy[h] = trainy_temp\n",
    "    return trainx,trainy,testx,testy"
   ]
  },
  {
   "cell_type": "code",
   "execution_count": 222,
   "metadata": {},
   "outputs": [
    {
     "name": "stdout",
     "output_type": "stream",
     "text": [
      "testx has the following shape: (3, 2167, 11)\n",
      "testy has the following shape: (3, 2167)\n",
      "trainx has the following shape: (3, 4333, 11)\n",
      "trainy has the following shape: (3, 4333)\n"
     ]
    }
   ],
   "source": [
    "trainx,trainy,testx,testy = k_fold_split(Features,ylabel)\n",
    "#reshape for sklearn\n",
    "testy = np.reshape(testy,(testy.shape[0],testy.shape[1],))\n",
    "trainy = np.reshape(trainy,(trainy.shape[0],trainy.shape[1],))\n",
    "print(\"testx has the following shape: \" + str(testx.shape))\n",
    "print(\"testy has the following shape: \" + str(testy.shape))\n",
    "print(\"trainx has the following shape: \" + str(trainx.shape))\n",
    "print(\"trainy has the following shape: \" + str(trainy.shape))\n"
   ]
  },
  {
   "cell_type": "code",
   "execution_count": 223,
   "metadata": {},
   "outputs": [],
   "source": [
    "def train_and_test(model,trainx,trainy,testx,testy):\n",
    "    stime = time.time()\n",
    "    algorithm = model.fit(trainx,trainy)\n",
    "    etime = time.time()\n",
    "    train_time = etime-stime\n",
    "#     print(\"training time = \"+ str(train_time))    \n",
    "    \n",
    "    stime = time.time()\n",
    "    prediction = algorithm.predict(testx)\n",
    "    etime = time.time()\n",
    "    train_time = etime-stime\n",
    "#     print(\"testing time = \"+ str(train_time))\n",
    "    \n",
    "    accuracy = accuracy_score(testy,prediction)\n",
    "#     print(\"The accuracy of this prediction is: \" + str(accuracy))\n",
    "    return algorithm,accuracy"
   ]
  },
  {
   "cell_type": "code",
   "execution_count": 245,
   "metadata": {},
   "outputs": [],
   "source": [
    "def bestK_retrain(model,trainx,trainy,testx,testy):\n",
    "    stime = time.time()\n",
    "    mod = []\n",
    "    acc = []\n",
    "    for k in range(0,trainx.shape[0]):\n",
    "        mod_k,acc_k = train_and_test(model,trainx[k],trainy[k],testx[k],testy[k])\n",
    "        mod.append(mod_k)\n",
    "        acc.append(acc_k)\n",
    "    acc = np.array(acc)\n",
    "    ind = np.argmax(acc)\n",
    "    best_mod = mod[ind]\n",
    "    best_pred = best_mod.predict(Features)\n",
    "    best_acc = accuracy_score(ylabel,best_pred)\n",
    "    print(\"The best accuracy achieved for \"+ best_mod.__class__.__name__+ \" is: \" + str(best_acc))\n",
    "    etime = time.time()\n",
    "    tot_time = etime-stime\n",
    "    print(\"Time taken for \"+ best_mod.__class__.__name__+ \" model= \"+ str(tot_time))\n",
    "    return best_mod,best_acc,tot_time\n",
    "    "
   ]
  },
  {
   "cell_type": "code",
   "execution_count": 254,
   "metadata": {},
   "outputs": [],
   "source": [
    "def test_models():\n",
    "    Gaussian_model= GaussianNB()\n",
    "    LogReg_model = LogisticRegression()\n",
    "    DTree_model = tree.DecisionTreeClassifier()\n",
    "    RForest_model = RandomForestClassifier(n_estimators=1000)\n",
    "    KNN_model = KNeighborsClassifier()\n",
    "    Net_model = MLPClassifier(alpha = 1)\n",
    "    list_models = [Gaussian_model,LogReg_model,DTree_model,RForest_model,KNN_model,Net_model]  \n",
    "    models = []\n",
    "    accs = []\n",
    "    times = []\n",
    "    for i in list_models:\n",
    "        mod_i, acc_i,times_i = bestK_retrain(i,trainx,trainy,testx,testy)\n",
    "        print(\"\")\n",
    "        models.append(mod_i)\n",
    "        accs.append(acc_i)\n",
    "        times.append(times_i)\n",
    "    \n",
    "    return models,accs,times"
   ]
  },
  {
   "cell_type": "code",
   "execution_count": 255,
   "metadata": {},
   "outputs": [
    {
     "name": "stdout",
     "output_type": "stream",
     "text": [
      "The best accuracy achieved for GaussianNB is: 0.7015545636447591\n",
      "Time taken for GaussianNB model= 0.012174606323242188\n",
      "\n",
      "The best accuracy achieved for LogisticRegression is: 0.7794366630752655\n",
      "Time taken for LogisticRegression model= 0.16688179969787598\n",
      "\n",
      "The best accuracy achieved for DecisionTreeClassifier is: 0.9235031553024473\n",
      "Time taken for DecisionTreeClassifier model= 0.08409714698791504\n",
      "\n",
      "The best accuracy achieved for RandomForestClassifier is: 0.9475142373403109\n",
      "Time taken for RandomForestClassifier model= 19.1169331073761\n",
      "\n",
      "The best accuracy achieved for KNeighborsClassifier is: 0.8071417577343389\n",
      "Time taken for KNeighborsClassifier model= 0.07305574417114258\n",
      "\n",
      "The best accuracy achieved for MLPClassifier is: 0.7669693704786825\n",
      "Time taken for MLPClassifier model= 1.146726369857788\n",
      "\n"
     ]
    }
   ],
   "source": [
    "models,accs,times = test_models()"
   ]
  },
  {
   "cell_type": "code",
   "execution_count": null,
   "metadata": {},
   "outputs": [],
   "source": []
  }
 ],
 "metadata": {
  "kernelspec": {
   "display_name": "Python 3",
   "language": "python",
   "name": "python3"
  },
  "language_info": {
   "codemirror_mode": {
    "name": "ipython",
    "version": 3
   },
   "file_extension": ".py",
   "mimetype": "text/x-python",
   "name": "python",
   "nbconvert_exporter": "python",
   "pygments_lexer": "ipython3",
   "version": "3.6.5"
  }
 },
 "nbformat": 4,
 "nbformat_minor": 2
}
